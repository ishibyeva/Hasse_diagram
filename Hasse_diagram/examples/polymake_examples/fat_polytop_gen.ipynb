{
 "cells": [
  {
   "cell_type": "code",
   "execution_count": 8,
   "metadata": {
    "vscode": {
     "languageId": "python"
    }
   },
   "outputs": [
    {
     "data": {
      "text/plain": [
       "1 0 0\n",
       "1 1 1\n",
       "1 2 4\n",
       "1 3 9\n",
       "1 4 16\n",
       "1 5 25\n"
      ]
     },
     "execution_count": 8,
     "metadata": {},
     "output_type": "execute_result"
    }
   ],
   "source": [
    "print cyclic(2,6)->VERTICES;"
   ]
  },
  {
   "cell_type": "code",
   "execution_count": 9,
   "metadata": {
    "vscode": {
     "languageId": "python"
    }
   },
   "outputs": [
    {
     "data": {
      "text/plain": [
       "{0 1}\n",
       "{1 2}\n",
       "{2 3}\n",
       "{3 4}\n",
       "{4 5}\n",
       "{0 5}\n"
      ]
     },
     "execution_count": 9,
     "metadata": {},
     "output_type": "execute_result"
    }
   ],
   "source": [
    "print cyclic(2,6)->VERTICES_IN_FACETS;"
   ]
  },
  {
   "cell_type": "code",
   "execution_count": 18,
   "metadata": {
    "vscode": {
     "languageId": "perl"
    }
   },
   "outputs": [],
   "source": [
    "$pol = product(cyclic(3,13), cyclic(6,13));\n",
    "$p = $pol->VERTICES_IN_FACETS;"
   ]
  },
  {
   "cell_type": "code",
   "execution_count": 6,
   "metadata": {
    "vscode": {
     "languageId": "perl"
    }
   },
   "outputs": [],
   "source": [
    "my @a = (3..10);\n",
    "for my $i (@a){\n",
    "\t$pol = cube($i);\n",
    "\t# $p = $pol->VERTICES_IN_FACETS;\n",
    "\tsave($pol, \"cubes/cube${i}.json\", canonical=>true);\n",
    "}"
   ]
  },
  {
   "cell_type": "code",
   "execution_count": 7,
   "metadata": {
    "vscode": {
     "languageId": "perl"
    }
   },
   "outputs": [
    {
     "data": {
      "text/plain": [
       "1024 5120 11520 15360 13440 8064 3360 960 180 20"
      ]
     },
     "execution_count": 7,
     "metadata": {},
     "output_type": "execute_result"
    }
   ],
   "source": [
    "print cube(10) -> F_VECTOR;"
   ]
  },
  {
   "cell_type": "code",
   "execution_count": 6,
   "metadata": {
    "vscode": {
     "languageId": "perl"
    }
   },
   "outputs": [],
   "source": [
    "my @a = (3..15);\n",
    "for my $i (@a){\n",
    "\t$pol = simplex($i);\n",
    "\t$p = $pol->VERTICES_IN_FACETS;\n",
    "\tsave($pol, \"simplex/simplex_${i}.json\", canonical=>true);\n",
    "}"
   ]
  },
  {
   "cell_type": "code",
   "execution_count": 4,
   "metadata": {
    "vscode": {
     "languageId": "perl"
    }
   },
   "outputs": [],
   "source": [
    "my @a = (2..7);\n",
    "for my $i (@a){\n",
    "\t$pol = product(cyclic($i,15), cyclic($i * 2,15));\n",
    "\t$p = $pol->VERTICES_IN_FACETS;\n",
    "\tsave_data($pol, \"cyclic_poly_dim/cyclic_prod_${i}_15.json\",canonical=>true);\n",
    "}"
   ]
  },
  {
   "cell_type": "code",
   "execution_count": 12,
   "metadata": {
    "vscode": {
     "languageId": "perl"
    }
   },
   "outputs": [],
   "source": [
    "my @a = (5..15);\n",
    "for my $i (@a){\n",
    "\t$pol = product(cyclic(2,$i), cyclic(2 * 2,$i));\n",
    "\t$p = $pol->VERTICES_IN_FACETS;\n",
    "\tsave_data($pol, \"cyclic_poly_vertex/cyclic_prod_3_${i}.json\",canonical=>true);\n",
    "}"
   ]
  },
  {
   "cell_type": "code",
   "execution_count": null,
   "metadata": {
    "vscode": {
     "languageId": "perl"
    }
   },
   "outputs": [],
   "source": [
    "$pol = product(cyclic(3,15), cyclic(3 * 2,15));\n",
    "print $pol->HASSE_DIAGRAM->FACES;"
   ]
  },
  {
   "cell_type": "code",
   "execution_count": 6,
   "metadata": {
    "vscode": {
     "languageId": "perl"
    }
   },
   "outputs": [
    {
     "data": {
      "text/plain": [
       "name: a\n",
       "type: Polytope<Rational>\n",
       "description: cube of dimension 3\n",
       "\n",
       "\n",
       "AFFINE_HULL\n",
       "\n",
       "\n",
       "BOUNDED\n",
       "true\n",
       "\n",
       "CONE_AMBIENT_DIM\n",
       "4\n",
       "\n",
       "CONE_DIM\n",
       "4\n",
       "\n",
       "FACETS\n",
       "1 1 0 0\n",
       "1 -1 0 0\n",
       "1 0 1 0\n",
       "1 0 -1 0\n",
       "1 0 0 1\n",
       "1 0 0 -1\n",
       "\n",
       "\n",
       "VERTICES_IN_FACETS\n",
       "{0 2 4 6}\n",
       "{1 3 5 7}\n",
       "{0 1 4 5}\n",
       "{2 3 6 7}\n",
       "{0 1 2 3}\n",
       "{4 5 6 7}\n",
       "\n"
      ]
     },
     "execution_count": 6,
     "metadata": {},
     "output_type": "execute_result"
    }
   ],
   "source": [
    "$a = cube(3);\n",
    "$a->properties;\n",
    "save_data($a, \"cube3.json\",canonical=>true);"
   ]
  },
  {
   "cell_type": "code",
   "execution_count": 8,
   "metadata": {
    "vscode": {
     "languageId": "perl"
    }
   },
   "outputs": [
    {
     "data": {
      "text/plain": [
       "1 -1 -1 -1\n",
       "1 1 -1 -1\n",
       "1 -1 1 -1\n",
       "1 1 1 -1\n",
       "1 -1 -1 1\n",
       "1 1 -1 1\n",
       "1 -1 1 1\n",
       "1 1 1 1\n"
      ]
     },
     "execution_count": 8,
     "metadata": {},
     "output_type": "execute_result"
    }
   ],
   "source": [
    "print $a->VERTICES;"
   ]
  },
  {
   "cell_type": "code",
   "execution_count": 4,
   "metadata": {
    "vscode": {
     "languageId": "perl"
    }
   },
   "outputs": [
    {
     "data": {
      "text/plain": [
       "({0 1 2 3 4 5 6 7} 4)\n",
       "({0 2 4 6} 3)\n",
       "({1 3 5 7} 3)\n",
       "({0 1 4 5} 3)\n",
       "({2 3 6 7} 3)\n",
       "({0 1 2 3} 3)\n",
       "({4 5 6 7} 3)\n",
       "({0 4} 2)\n",
       "({2 6} 2)\n",
       "({0 2} 2)\n",
       "({4 6} 2)\n",
       "({1 5} 2)\n",
       "({3 7} 2)\n",
       "({1 3} 2)\n",
       "({5 7} 2)\n",
       "({0 1} 2)\n",
       "({4 5} 2)\n",
       "({2 3} 2)\n",
       "({6 7} 2)\n",
       "({0} 1)\n",
       "({1} 1)\n",
       "({2} 1)\n",
       "({3} 1)\n",
       "({4} 1)\n",
       "({5} 1)\n",
       "({6} 1)\n",
       "({7} 1)\n",
       "({} 0)\n"
      ]
     },
     "execution_count": 4,
     "metadata": {},
     "output_type": "execute_result"
    }
   ],
   "source": [
    "print cube(3)-> HASSE_DIAGRAM -> DECORATION;"
   ]
  }
 ],
 "metadata": {
  "kernelspec": {
   "display_name": "polymake-4.9",
   "language": "polymake",
   "name": "polymake"
  },
  "language_info": {
   "codemirror_mode": "perl",
   "file_extension": ".pl",
   "mimetype": "text/x-polymake",
   "name": "polymake"
  },
  "orig_nbformat": 4
 },
 "nbformat": 4,
 "nbformat_minor": 2
}
